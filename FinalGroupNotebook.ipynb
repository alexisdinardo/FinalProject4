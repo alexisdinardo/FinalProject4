{
 "cells": [
  {
   "cell_type": "markdown",
   "metadata": {},
   "source": [
    "### Group Notebook"
   ]
  },
  {
   "cell_type": "markdown",
   "metadata": {},
   "source": [
    "### Metric:\n",
    "We chose to measure the best neighborhood in Pittsburgh by looking at which neighborhood has the most facilities available to their residents. To do this we looked at the datasets that showed the pools, playgrounds, and other facilities in each neighborhood in Pittsburgh. "
   ]
  },
  {
   "cell_type": "code",
   "execution_count": 12,
   "metadata": {},
   "outputs": [],
   "source": [
    "import pandas as pd\n",
    "import numpy as np\n",
    "pools = pd.read_csv(\"PoolData.csv\")\n",
    "facil = pd.read_csv(\"facilities.csv\")\n",
    "playg = pd.read_csv(\"playgrounds.csv\")"
   ]
  },
  {
   "cell_type": "markdown",
   "metadata": {},
   "source": [
    "Arrange all of the datasets into value_counts to see how many facilities there are per neighborhood"
   ]
  },
  {
   "cell_type": "code",
   "execution_count": 6,
   "metadata": {},
   "outputs": [
    {
     "data": {
      "text/plain": [
       "Highland Park       2\n",
       "South Side Flats    2\n",
       "Beltzhoover         1\n",
       "Lincoln Place       1\n",
       "Brighton Heights    1\n",
       "Name: neighborhood, dtype: int64"
      ]
     },
     "execution_count": 6,
     "metadata": {},
     "output_type": "execute_result"
    }
   ],
   "source": [
    "pools['neighborhood'].value_counts().head(5)"
   ]
  },
  {
   "cell_type": "code",
   "execution_count": 7,
   "metadata": {},
   "outputs": [
    {
     "data": {
      "text/plain": [
       "Highland Park          30\n",
       "Squirrel Hill South    29\n",
       "Perry North            20\n",
       "Brookline              19\n",
       "Strip District         15\n",
       "Name: neighborhood, dtype: int64"
      ]
     },
     "execution_count": 7,
     "metadata": {},
     "output_type": "execute_result"
    }
   ],
   "source": [
    "facil['neighborhood'].value_counts().head(5)"
   ]
  },
  {
   "cell_type": "code",
   "execution_count": 8,
   "metadata": {},
   "outputs": [
    {
     "data": {
      "text/plain": [
       "Squirrel Hill South    8\n",
       "Beechview              5\n",
       "South Side Slopes      5\n",
       "Sheraden               4\n",
       "Beltzhoover            4\n",
       "Name: neighborhood, dtype: int64"
      ]
     },
     "execution_count": 8,
     "metadata": {},
     "output_type": "execute_result"
    }
   ],
   "source": [
    "playg['neighborhood'].value_counts().head(5)"
   ]
  },
  {
   "cell_type": "markdown",
   "metadata": {},
   "source": [
    "Rename the value_counts dataframes so their easier to call"
   ]
  },
  {
   "cell_type": "code",
   "execution_count": 13,
   "metadata": {},
   "outputs": [],
   "source": [
    "po = pools['neighborhood'].value_counts()\n",
    "fa = facil['neighborhood'].value_counts()\n",
    "pl = playg['neighborhood'].value_counts()"
   ]
  },
  {
   "cell_type": "markdown",
   "metadata": {},
   "source": [
    "Add the facilities and pool dataframes together"
   ]
  },
  {
   "cell_type": "code",
   "execution_count": 16,
   "metadata": {},
   "outputs": [
    {
     "data": {
      "text/plain": [
       "Allegheny Center       5.0\n",
       "Allegheny West         3.0\n",
       "Allentown              3.0\n",
       "Banksville             8.0\n",
       "Bedford Dwellings      7.0\n",
       "                      ... \n",
       "Upper Lawrenceville    1.0\n",
       "West End               2.0\n",
       "West Oakland           1.0\n",
       "Westwood               5.0\n",
       "Windgap                3.0\n",
       "Name: neighborhood, Length: 75, dtype: float64"
      ]
     },
     "execution_count": 16,
     "metadata": {},
     "output_type": "execute_result"
    }
   ],
   "source": [
    "new = fa.add(po, fill_value=0)\n",
    "new"
   ]
  },
  {
   "cell_type": "markdown",
   "metadata": {},
   "source": [
    "Add in the playground data"
   ]
  },
  {
   "cell_type": "code",
   "execution_count": 21,
   "metadata": {},
   "outputs": [
    {
     "data": {
      "text/plain": [
       "Allegheny Center       9.0\n",
       "Allegheny West         3.0\n",
       "Allentown              4.0\n",
       "Banksville             9.0\n",
       "Bedford Dwellings      8.0\n",
       "                      ... \n",
       "Upper Lawrenceville    4.0\n",
       "West End               3.0\n",
       "West Oakland           2.0\n",
       "Westwood               6.0\n",
       "Windgap                4.0\n",
       "Name: neighborhood, Length: 79, dtype: float64"
      ]
     },
     "execution_count": 21,
     "metadata": {},
     "output_type": "execute_result"
    }
   ],
   "source": [
    "new2 = new.add(pl, fill_value=0)\n",
    "new2"
   ]
  },
  {
   "cell_type": "markdown",
   "metadata": {},
   "source": [
    "Let's make a bar graph with all the data"
   ]
  },
  {
   "cell_type": "code",
   "execution_count": 23,
   "metadata": {},
   "outputs": [
    {
     "data": {
      "text/plain": [
       "<AxesSubplot:>"
      ]
     },
     "execution_count": 23,
     "metadata": {},
     "output_type": "execute_result"
    },
    {
     "data": {
      "image/png": "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\n",
      "text/plain": [
       "<Figure size 432x288 with 1 Axes>"
      ]
     },
     "metadata": {
      "needs_background": "light"
     },
     "output_type": "display_data"
    }
   ],
   "source": [
    "new2.plot.bar(x='neighborhood')"
   ]
  },
  {
   "cell_type": "markdown",
   "metadata": {},
   "source": [
    "This chart is super crowded, so we are going to filter out any neighborhoods that have less than fifteen facilities"
   ]
  },
  {
   "cell_type": "code",
   "execution_count": 27,
   "metadata": {},
   "outputs": [
    {
     "data": {
      "text/plain": [
       "Brighton Heights       17.0\n",
       "Brookline              22.0\n",
       "Carrick                16.0\n",
       "Hazelwood              18.0\n",
       "Highland Park          36.0\n",
       "Perry North            22.0\n",
       "South Side Slopes      17.0\n",
       "Squirrel Hill South    38.0\n",
       "Strip District         16.0\n",
       "Name: neighborhood, dtype: float64"
      ]
     },
     "execution_count": 27,
     "metadata": {},
     "output_type": "execute_result"
    }
   ],
   "source": [
    "filterednew2 = new2[new2>=15]\n",
    "filterednew2"
   ]
  },
  {
   "cell_type": "markdown",
   "metadata": {},
   "source": [
    "The new bar chart for the filtered data:"
   ]
  },
  {
   "cell_type": "code",
   "execution_count": 28,
   "metadata": {},
   "outputs": [
    {
     "data": {
      "text/plain": [
       "<AxesSubplot:>"
      ]
     },
     "execution_count": 28,
     "metadata": {},
     "output_type": "execute_result"
    },
    {
     "data": {
      "image/png": "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\n",
      "text/plain": [
       "<Figure size 432x288 with 1 Axes>"
      ]
     },
     "metadata": {
      "needs_background": "light"
     },
     "output_type": "display_data"
    }
   ],
   "source": [
    "filterednew2.plot.bar(x='neighborhood')"
   ]
  },
  {
   "cell_type": "markdown",
   "metadata": {},
   "source": [
    "Here is the new bar chart, and it shows that Squirrel Hill South has the most facilities of all the neighborhoods."
   ]
  },
  {
   "cell_type": "markdown",
   "metadata": {},
   "source": [
    "Now lets look at what facilities Squirrel Hill South has..."
   ]
  },
  {
   "cell_type": "markdown",
   "metadata": {},
   "source": [
    "Filter out the facilities dataframe to just have values that are from Squirrel Hill South"
   ]
  },
  {
   "cell_type": "code",
   "execution_count": 38,
   "metadata": {},
   "outputs": [
    {
     "data": {
      "text/html": [
       "<div>\n",
       "<style scoped>\n",
       "    .dataframe tbody tr th:only-of-type {\n",
       "        vertical-align: middle;\n",
       "    }\n",
       "\n",
       "    .dataframe tbody tr th {\n",
       "        vertical-align: top;\n",
       "    }\n",
       "\n",
       "    .dataframe thead th {\n",
       "        text-align: right;\n",
       "    }\n",
       "</style>\n",
       "<table border=\"1\" class=\"dataframe\">\n",
       "  <thead>\n",
       "    <tr style=\"text-align: right;\">\n",
       "      <th></th>\n",
       "      <th>id</th>\n",
       "      <th>parcel_id</th>\n",
       "      <th>inactive</th>\n",
       "      <th>name</th>\n",
       "      <th>rentable</th>\n",
       "      <th>type</th>\n",
       "      <th>primary_user</th>\n",
       "      <th>address_number</th>\n",
       "      <th>street</th>\n",
       "      <th>zip</th>\n",
       "      <th>...</th>\n",
       "      <th>neighborhood</th>\n",
       "      <th>council_district</th>\n",
       "      <th>ward</th>\n",
       "      <th>tract</th>\n",
       "      <th>public_works_division</th>\n",
       "      <th>pli_division</th>\n",
       "      <th>police_zone</th>\n",
       "      <th>fire_zone</th>\n",
       "      <th>latitude</th>\n",
       "      <th>longitude</th>\n",
       "    </tr>\n",
       "  </thead>\n",
       "  <tbody>\n",
       "    <tr>\n",
       "      <th>98</th>\n",
       "      <td>381762852</td>\n",
       "      <td>27-S-150-0-1</td>\n",
       "      <td>f</td>\n",
       "      <td>Flagstaff Hill Gazebo</td>\n",
       "      <td>f</td>\n",
       "      <td>Shelter</td>\n",
       "      <td>Department of Public Works</td>\n",
       "      <td>NaN</td>\n",
       "      <td>FREW AVE</td>\n",
       "      <td>NaN</td>\n",
       "      <td>...</td>\n",
       "      <td>Squirrel Hill South</td>\n",
       "      <td>5</td>\n",
       "      <td>14.0</td>\n",
       "      <td>42003980500</td>\n",
       "      <td>3.0</td>\n",
       "      <td>14.0</td>\n",
       "      <td>4.0</td>\n",
       "      <td>2-8</td>\n",
       "      <td>40.440885</td>\n",
       "      <td>-79.947778</td>\n",
       "    </tr>\n",
       "    <tr>\n",
       "      <th>105</th>\n",
       "      <td>280573423</td>\n",
       "      <td>127-H-100-0-1</td>\n",
       "      <td>f</td>\n",
       "      <td>Frick Park Blue Slide Park Concession Stand</td>\n",
       "      <td>f</td>\n",
       "      <td>Concession</td>\n",
       "      <td>Department of Public Works</td>\n",
       "      <td>NaN</td>\n",
       "      <td>ENGLISH LN</td>\n",
       "      <td>NaN</td>\n",
       "      <td>...</td>\n",
       "      <td>Squirrel Hill South</td>\n",
       "      <td>5</td>\n",
       "      <td>14.0</td>\n",
       "      <td>42003980300</td>\n",
       "      <td>3.0</td>\n",
       "      <td>14.0</td>\n",
       "      <td>4.0</td>\n",
       "      <td>2-21</td>\n",
       "      <td>40.429513</td>\n",
       "      <td>-79.913793</td>\n",
       "    </tr>\n",
       "    <tr>\n",
       "      <th>106</th>\n",
       "      <td>1220088240</td>\n",
       "      <td>127-H-100-0-1</td>\n",
       "      <td>f</td>\n",
       "      <td>Frick Park Blue Slide Park Restrooms</td>\n",
       "      <td>f</td>\n",
       "      <td>Restrooms</td>\n",
       "      <td>Department of Public Works</td>\n",
       "      <td>NaN</td>\n",
       "      <td>ENGLISH LN</td>\n",
       "      <td>NaN</td>\n",
       "      <td>...</td>\n",
       "      <td>Squirrel Hill South</td>\n",
       "      <td>5</td>\n",
       "      <td>14.0</td>\n",
       "      <td>42003980300</td>\n",
       "      <td>3.0</td>\n",
       "      <td>14.0</td>\n",
       "      <td>4.0</td>\n",
       "      <td>2-21</td>\n",
       "      <td>40.429481</td>\n",
       "      <td>-79.913725</td>\n",
       "    </tr>\n",
       "    <tr>\n",
       "      <th>107</th>\n",
       "      <td>1418496458</td>\n",
       "      <td>127-H-100-0-1</td>\n",
       "      <td>f</td>\n",
       "      <td>Frick Park Blue Slide Park Shelter</td>\n",
       "      <td>f</td>\n",
       "      <td>Shelter</td>\n",
       "      <td>Department of Public Works</td>\n",
       "      <td>NaN</td>\n",
       "      <td>BEECHWOOD BLVD</td>\n",
       "      <td>NaN</td>\n",
       "      <td>...</td>\n",
       "      <td>Squirrel Hill South</td>\n",
       "      <td>5</td>\n",
       "      <td>14.0</td>\n",
       "      <td>42003980300</td>\n",
       "      <td>3.0</td>\n",
       "      <td>14.0</td>\n",
       "      <td>4.0</td>\n",
       "      <td>2-21</td>\n",
       "      <td>40.430172</td>\n",
       "      <td>-79.914966</td>\n",
       "    </tr>\n",
       "    <tr>\n",
       "      <th>112</th>\n",
       "      <td>1655062579</td>\n",
       "      <td>NaN</td>\n",
       "      <td>f</td>\n",
       "      <td>Frick Park Duffy Cabin</td>\n",
       "      <td>f</td>\n",
       "      <td>Storage</td>\n",
       "      <td>Department of Public Works</td>\n",
       "      <td>NaN</td>\n",
       "      <td>NaN</td>\n",
       "      <td>NaN</td>\n",
       "      <td>...</td>\n",
       "      <td>Squirrel Hill South</td>\n",
       "      <td>5</td>\n",
       "      <td>14.0</td>\n",
       "      <td>42003980300</td>\n",
       "      <td>3.0</td>\n",
       "      <td>14.0</td>\n",
       "      <td>4.0</td>\n",
       "      <td>2-21</td>\n",
       "      <td>40.437036</td>\n",
       "      <td>-79.906963</td>\n",
       "    </tr>\n",
       "  </tbody>\n",
       "</table>\n",
       "<p>5 rows × 21 columns</p>\n",
       "</div>"
      ],
      "text/plain": [
       "             id      parcel_id inactive  \\\n",
       "98    381762852   27-S-150-0-1        f   \n",
       "105   280573423  127-H-100-0-1        f   \n",
       "106  1220088240  127-H-100-0-1        f   \n",
       "107  1418496458  127-H-100-0-1        f   \n",
       "112  1655062579            NaN        f   \n",
       "\n",
       "                                            name rentable        type  \\\n",
       "98                         Flagstaff Hill Gazebo        f     Shelter   \n",
       "105  Frick Park Blue Slide Park Concession Stand        f  Concession   \n",
       "106         Frick Park Blue Slide Park Restrooms        f   Restrooms   \n",
       "107           Frick Park Blue Slide Park Shelter        f     Shelter   \n",
       "112                       Frick Park Duffy Cabin        f     Storage   \n",
       "\n",
       "                   primary_user  address_number          street  zip  ...  \\\n",
       "98   Department of Public Works             NaN        FREW AVE  NaN  ...   \n",
       "105  Department of Public Works             NaN      ENGLISH LN  NaN  ...   \n",
       "106  Department of Public Works             NaN      ENGLISH LN  NaN  ...   \n",
       "107  Department of Public Works             NaN  BEECHWOOD BLVD  NaN  ...   \n",
       "112  Department of Public Works             NaN             NaN  NaN  ...   \n",
       "\n",
       "            neighborhood council_district  ward        tract  \\\n",
       "98   Squirrel Hill South                5  14.0  42003980500   \n",
       "105  Squirrel Hill South                5  14.0  42003980300   \n",
       "106  Squirrel Hill South                5  14.0  42003980300   \n",
       "107  Squirrel Hill South                5  14.0  42003980300   \n",
       "112  Squirrel Hill South                5  14.0  42003980300   \n",
       "\n",
       "     public_works_division  pli_division  police_zone  fire_zone   latitude  \\\n",
       "98                     3.0          14.0          4.0        2-8  40.440885   \n",
       "105                    3.0          14.0          4.0       2-21  40.429513   \n",
       "106                    3.0          14.0          4.0       2-21  40.429481   \n",
       "107                    3.0          14.0          4.0       2-21  40.430172   \n",
       "112                    3.0          14.0          4.0       2-21  40.437036   \n",
       "\n",
       "     longitude  \n",
       "98  -79.947778  \n",
       "105 -79.913793  \n",
       "106 -79.913725  \n",
       "107 -79.914966  \n",
       "112 -79.906963  \n",
       "\n",
       "[5 rows x 21 columns]"
      ]
     },
     "execution_count": 38,
     "metadata": {},
     "output_type": "execute_result"
    }
   ],
   "source": [
    "query_mask = facil['neighborhood']=='Squirrel Hill South'\n",
    "SqH = facil[query_mask]\n",
    "SqH.head(5)"
   ]
  },
  {
   "cell_type": "markdown",
   "metadata": {},
   "source": [
    "List the types of facilities as well as how many in the neighborhood"
   ]
  },
  {
   "cell_type": "code",
   "execution_count": 39,
   "metadata": {},
   "outputs": [
    {
     "data": {
      "text/plain": [
       "shelter       12\n",
       "office         4\n",
       "restrooms      3\n",
       "cabin          2\n",
       "activity       2\n",
       "service        2\n",
       "storage        1\n",
       "pool           1\n",
       "concession     1\n",
       "Name: type, dtype: int64"
      ]
     },
     "execution_count": 39,
     "metadata": {},
     "output_type": "execute_result"
    }
   ],
   "source": [
    "SqtTypes = SqH['type'].str.lower().value_counts()\n",
    "SqtTypes"
   ]
  },
  {
   "cell_type": "markdown",
   "metadata": {},
   "source": [
    "Let's look at how many playgrounds and pools now by doing the same thing for the other two datasets"
   ]
  },
  {
   "cell_type": "code",
   "execution_count": 44,
   "metadata": {},
   "outputs": [
    {
     "data": {
      "text/plain": [
       "Squirrel Hill South    8\n",
       "Name: neighborhood, dtype: int64"
      ]
     },
     "execution_count": 44,
     "metadata": {},
     "output_type": "execute_result"
    }
   ],
   "source": [
    "query_mask2 = playg['neighborhood']=='Squirrel Hill South'\n",
    "SqG = playg[query_mask2]\n",
    "SqG['neighborhood'].value_counts()"
   ]
  },
  {
   "cell_type": "markdown",
   "metadata": {},
   "source": [
    "This shows that there are 8 playgrounds in Squirrel Hill South"
   ]
  },
  {
   "cell_type": "code",
   "execution_count": 47,
   "metadata": {},
   "outputs": [
    {
     "data": {
      "text/plain": [
       "Squirrel Hill South    1\n",
       "Name: neighborhood, dtype: int64"
      ]
     },
     "execution_count": 47,
     "metadata": {},
     "output_type": "execute_result"
    }
   ],
   "source": [
    "query_mask3 = pools['neighborhood']=='Squirrel Hill South'\n",
    "SqP = pools[query_mask3]\n",
    "SqP['neighborhood'].value_counts()"
   ]
  },
  {
   "cell_type": "markdown",
   "metadata": {},
   "source": [
    "This shows only 1 pool in Squirrel Hill South"
   ]
  },
  {
   "cell_type": "markdown",
   "metadata": {},
   "source": [
    "### Conclusion: \n",
    "The best neighborhood was Squirrel Hill South, with a total of 38 facilities. \n",
    "\n",
    "Alexis- My favorite neighborhood before doing this project was Shadyside, though I wasn't really surprised that Squirrel Hill South was the 'best' neighborhood in terms of how many facilities they have. I was surprised, however, with how little data there was in terms of Shadyside and what facilities they have. "
    "\n"
    "Evan- Before starting this project, my favorite neighborhood in Pittsburgh was the Strip District. It was unsurprising that it only barely made the top 10, since the Strip District is known for its many restaurants and shops. There really isn't that much room left for facilities. It was also unsurprising to me that Squirrel Hill won, due to its many facilities around the neighborhood."
   ]
  },
  {
   "cell_type": "code",
   "execution_count": null,
   "metadata": {},
   "outputs": [],
   "source": []
  }
 ],
 "metadata": {
  "kernelspec": {
   "display_name": "Python 3",
   "language": "python",
   "name": "python3"
  },
  "language_info": {
   "codemirror_mode": {
    "name": "ipython",
    "version": 3
   },
   "file_extension": ".py",
   "mimetype": "text/x-python",
   "name": "python",
   "nbconvert_exporter": "python",
   "pygments_lexer": "ipython3",
   "version": "3.8.5"
  }
 },
 "nbformat": 4,
 "nbformat_minor": 4
}
